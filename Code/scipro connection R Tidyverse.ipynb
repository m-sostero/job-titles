{
 "cells": [
  {
   "cell_type": "markdown",
   "metadata": {},
   "source": [
    "## Connecting to Scipro Oracle database in the tidyverse using DBI, ODBC and dbplyr"
   ]
  },
  {
   "cell_type": "markdown",
   "metadata": {},
   "source": [
    "> **Important one-off adjustment**:\n",
    "> \n",
    "> set `TNS_ADMIN = \"/etc/oracle/\"` in `~/.Renviron` and reload the kernel"
   ]
  },
  {
   "cell_type": "markdown",
   "metadata": {},
   "source": [
    "## Load required libraries"
   ]
  },
  {
   "cell_type": "code",
   "execution_count": 1,
   "metadata": {},
   "outputs": [
    {
     "name": "stderr",
     "output_type": "stream",
     "text": [
      "── \u001b[1mAttaching packages\u001b[22m ─────────────────────────────────────── tidyverse 1.3.0 ──\n",
      "\n",
      "\u001b[32m✔\u001b[39m \u001b[34mggplot2\u001b[39m 3.3.3     \u001b[32m✔\u001b[39m \u001b[34mpurrr  \u001b[39m 0.3.4\n",
      "\u001b[32m✔\u001b[39m \u001b[34mtibble \u001b[39m 3.1.0     \u001b[32m✔\u001b[39m \u001b[34mdplyr  \u001b[39m 1.0.5\n",
      "\u001b[32m✔\u001b[39m \u001b[34mtidyr  \u001b[39m 1.1.3     \u001b[32m✔\u001b[39m \u001b[34mstringr\u001b[39m 1.4.0\n",
      "\u001b[32m✔\u001b[39m \u001b[34mreadr  \u001b[39m 1.4.0     \u001b[32m✔\u001b[39m \u001b[34mforcats\u001b[39m 0.5.1\n",
      "\n",
      "── \u001b[1mConflicts\u001b[22m ────────────────────────────────────────── tidyverse_conflicts() ──\n",
      "\u001b[31m✖\u001b[39m \u001b[34mdplyr\u001b[39m::\u001b[32mfilter()\u001b[39m masks \u001b[34mstats\u001b[39m::filter()\n",
      "\u001b[31m✖\u001b[39m \u001b[34mdplyr\u001b[39m::\u001b[32mlag()\u001b[39m    masks \u001b[34mstats\u001b[39m::lag()\n",
      "\n",
      "\n",
      "Attaching package: ‘dbplyr’\n",
      "\n",
      "\n",
      "The following objects are masked from ‘package:dplyr’:\n",
      "\n",
      "    ident, sql\n",
      "\n",
      "\n"
     ]
    }
   ],
   "source": [
    "library(tidyverse)\n",
    "library(dbplyr)\n",
    "\n",
    "library(DBI) # database interface\n",
    "library(odbc) # database interface\n",
    "\n",
    "options(\"width\" = 180) # width of table preview"
   ]
  },
  {
   "cell_type": "markdown",
   "metadata": {},
   "source": [
    "## Set connection parameters"
   ]
  },
  {
   "cell_type": "code",
   "execution_count": 2,
   "metadata": {},
   "outputs": [],
   "source": [
    "con_bglass <- DBI::dbConnect(\n",
    "  drv = odbc::odbc(),    # ODBC translation driver \n",
    "  dsn = \"scipro\",        # server name\n",
    "  UID = \"READ_BGLASS\",   \n",
    "  PWD = \"Sys.getenv("SCIPRO_DB_PWD")\" \n",
    ")"
   ]
  },
  {
   "cell_type": "markdown",
   "metadata": {},
   "source": [
    "## Show remote tables in database"
   ]
  },
  {
   "cell_type": "code",
   "execution_count": 3,
   "metadata": {},
   "outputs": [
    {
     "data": {
      "text/html": [
       "<style>\n",
       ".list-inline {list-style: none; margin:0; padding: 0}\n",
       ".list-inline>li {display: inline-block}\n",
       ".list-inline>li:not(:last-child)::after {content: \"\\00b7\"; padding: 0 .5ex}\n",
       "</style>\n",
       "<ol class=list-inline><li>'CERTS'</li><li>'DEGREE'</li><li>'DR$IDXTXT_CERTS_CANONCERT$I'</li><li>'DR$IDXTXT_CERTS_CANONCERT$K'</li><li>'DR$IDXTXT_CERTS_CANONCERT$N'</li><li>'DR$IDXTXT_CERTS_CANONCERT$U'</li><li>'DR$IDXTXT_DEGREE_CANONPREFDEGREE$I'</li><li>'DR$IDXTXT_DEGREE_CANONPREFDEGREE$K'</li><li>'DR$IDXTXT_DEGREE_CANONPREFDEGREE$N'</li><li>'DR$IDXTXT_DEGREE_CANONPREFDEGREE$U'</li><li>'DR$IDXTXT_MAIN_CLEANJOBTITLE$I'</li><li>'DR$IDXTXT_MAIN_CLEANJOBTITLE$K'</li><li>'DR$IDXTXT_MAIN_CLEANJOBTITLE$N'</li><li>'DR$IDXTXT_MAIN_CLEANJOBTITLE$U'</li><li>'DR$IDXTXT_SKILLS_SKILL$I'</li><li>'DR$IDXTXT_SKILLS_SKILL$K'</li><li>'DR$IDXTXT_SKILLS_SKILL$N'</li><li>'DR$IDXTXT_SKILLS_SKILL$U'</li><li>'DR$IDXTXT_STDMAJOR_STDMAJOR$I'</li><li>'DR$IDXTXT_STDMAJOR_STDMAJOR$K'</li><li>'DR$IDXTXT_STDMAJOR_STDMAJOR$N'</li><li>'DR$IDXTXT_STDMAJOR_STDMAJOR$U'</li><li>'MAIN'</li><li>'SKILLS'</li><li>'SKILLS_UNIQUE'</li><li>'STANDARD_MAJOR'</li></ol>\n"
      ],
      "text/latex": [
       "\\begin{enumerate*}\n",
       "\\item 'CERTS'\n",
       "\\item 'DEGREE'\n",
       "\\item 'DR\\$IDXTXT\\_CERTS\\_CANONCERT\\$I'\n",
       "\\item 'DR\\$IDXTXT\\_CERTS\\_CANONCERT\\$K'\n",
       "\\item 'DR\\$IDXTXT\\_CERTS\\_CANONCERT\\$N'\n",
       "\\item 'DR\\$IDXTXT\\_CERTS\\_CANONCERT\\$U'\n",
       "\\item 'DR\\$IDXTXT\\_DEGREE\\_CANONPREFDEGREE\\$I'\n",
       "\\item 'DR\\$IDXTXT\\_DEGREE\\_CANONPREFDEGREE\\$K'\n",
       "\\item 'DR\\$IDXTXT\\_DEGREE\\_CANONPREFDEGREE\\$N'\n",
       "\\item 'DR\\$IDXTXT\\_DEGREE\\_CANONPREFDEGREE\\$U'\n",
       "\\item 'DR\\$IDXTXT\\_MAIN\\_CLEANJOBTITLE\\$I'\n",
       "\\item 'DR\\$IDXTXT\\_MAIN\\_CLEANJOBTITLE\\$K'\n",
       "\\item 'DR\\$IDXTXT\\_MAIN\\_CLEANJOBTITLE\\$N'\n",
       "\\item 'DR\\$IDXTXT\\_MAIN\\_CLEANJOBTITLE\\$U'\n",
       "\\item 'DR\\$IDXTXT\\_SKILLS\\_SKILL\\$I'\n",
       "\\item 'DR\\$IDXTXT\\_SKILLS\\_SKILL\\$K'\n",
       "\\item 'DR\\$IDXTXT\\_SKILLS\\_SKILL\\$N'\n",
       "\\item 'DR\\$IDXTXT\\_SKILLS\\_SKILL\\$U'\n",
       "\\item 'DR\\$IDXTXT\\_STDMAJOR\\_STDMAJOR\\$I'\n",
       "\\item 'DR\\$IDXTXT\\_STDMAJOR\\_STDMAJOR\\$K'\n",
       "\\item 'DR\\$IDXTXT\\_STDMAJOR\\_STDMAJOR\\$N'\n",
       "\\item 'DR\\$IDXTXT\\_STDMAJOR\\_STDMAJOR\\$U'\n",
       "\\item 'MAIN'\n",
       "\\item 'SKILLS'\n",
       "\\item 'SKILLS\\_UNIQUE'\n",
       "\\item 'STANDARD\\_MAJOR'\n",
       "\\end{enumerate*}\n"
      ],
      "text/markdown": [
       "1. 'CERTS'\n",
       "2. 'DEGREE'\n",
       "3. 'DR$IDXTXT_CERTS_CANONCERT$I'\n",
       "4. 'DR$IDXTXT_CERTS_CANONCERT$K'\n",
       "5. 'DR$IDXTXT_CERTS_CANONCERT$N'\n",
       "6. 'DR$IDXTXT_CERTS_CANONCERT$U'\n",
       "7. 'DR$IDXTXT_DEGREE_CANONPREFDEGREE$I'\n",
       "8. 'DR$IDXTXT_DEGREE_CANONPREFDEGREE$K'\n",
       "9. 'DR$IDXTXT_DEGREE_CANONPREFDEGREE$N'\n",
       "10. 'DR$IDXTXT_DEGREE_CANONPREFDEGREE$U'\n",
       "11. 'DR$IDXTXT_MAIN_CLEANJOBTITLE$I'\n",
       "12. 'DR$IDXTXT_MAIN_CLEANJOBTITLE$K'\n",
       "13. 'DR$IDXTXT_MAIN_CLEANJOBTITLE$N'\n",
       "14. 'DR$IDXTXT_MAIN_CLEANJOBTITLE$U'\n",
       "15. 'DR$IDXTXT_SKILLS_SKILL$I'\n",
       "16. 'DR$IDXTXT_SKILLS_SKILL$K'\n",
       "17. 'DR$IDXTXT_SKILLS_SKILL$N'\n",
       "18. 'DR$IDXTXT_SKILLS_SKILL$U'\n",
       "19. 'DR$IDXTXT_STDMAJOR_STDMAJOR$I'\n",
       "20. 'DR$IDXTXT_STDMAJOR_STDMAJOR$K'\n",
       "21. 'DR$IDXTXT_STDMAJOR_STDMAJOR$N'\n",
       "22. 'DR$IDXTXT_STDMAJOR_STDMAJOR$U'\n",
       "23. 'MAIN'\n",
       "24. 'SKILLS'\n",
       "25. 'SKILLS_UNIQUE'\n",
       "26. 'STANDARD_MAJOR'\n",
       "\n",
       "\n"
      ],
      "text/plain": [
       " [1] \"CERTS\"                              \"DEGREE\"                             \"DR$IDXTXT_CERTS_CANONCERT$I\"        \"DR$IDXTXT_CERTS_CANONCERT$K\"       \n",
       " [5] \"DR$IDXTXT_CERTS_CANONCERT$N\"        \"DR$IDXTXT_CERTS_CANONCERT$U\"        \"DR$IDXTXT_DEGREE_CANONPREFDEGREE$I\" \"DR$IDXTXT_DEGREE_CANONPREFDEGREE$K\"\n",
       " [9] \"DR$IDXTXT_DEGREE_CANONPREFDEGREE$N\" \"DR$IDXTXT_DEGREE_CANONPREFDEGREE$U\" \"DR$IDXTXT_MAIN_CLEANJOBTITLE$I\"     \"DR$IDXTXT_MAIN_CLEANJOBTITLE$K\"    \n",
       "[13] \"DR$IDXTXT_MAIN_CLEANJOBTITLE$N\"     \"DR$IDXTXT_MAIN_CLEANJOBTITLE$U\"     \"DR$IDXTXT_SKILLS_SKILL$I\"           \"DR$IDXTXT_SKILLS_SKILL$K\"          \n",
       "[17] \"DR$IDXTXT_SKILLS_SKILL$N\"           \"DR$IDXTXT_SKILLS_SKILL$U\"           \"DR$IDXTXT_STDMAJOR_STDMAJOR$I\"      \"DR$IDXTXT_STDMAJOR_STDMAJOR$K\"     \n",
       "[21] \"DR$IDXTXT_STDMAJOR_STDMAJOR$N\"      \"DR$IDXTXT_STDMAJOR_STDMAJOR$U\"      \"MAIN\"                               \"SKILLS\"                            \n",
       "[25] \"SKILLS_UNIQUE\"                      \"STANDARD_MAJOR\"                    "
      ]
     },
     "metadata": {},
     "output_type": "display_data"
    }
   ],
   "source": [
    "dbListTables(con_bglass, schema = \"OWN_BGLASS\")"
   ]
  },
  {
   "cell_type": "markdown",
   "metadata": {},
   "source": [
    "## Connect to example table SKILLS_UNIQUE"
   ]
  },
  {
   "cell_type": "code",
   "execution_count": 4,
   "metadata": {},
   "outputs": [],
   "source": [
    "bgt_skills_unique <- tbl(con_bglass, in_schema(\"OWN_BGLASS\", \"SKILLS_UNIQUE\"))"
   ]
  },
  {
   "cell_type": "code",
   "execution_count": 6,
   "metadata": {},
   "outputs": [
    {
     "name": "stdout",
     "output_type": "stream",
     "text": [
      "<SQL>\n",
      "SELECT *\n",
      "FROM \"OWN_BGLASS\".\"SKILLS_UNIQUE\"\n"
     ]
    }
   ],
   "source": [
    "bgt_skills_unique %>% show_query()"
   ]
  },
  {
   "cell_type": "code",
   "execution_count": 5,
   "metadata": {},
   "outputs": [
    {
     "data": {
      "text/plain": [
       "\u001b[90m# Source:   table<\"OWN_BGLASS\".\"SKILLS_UNIQUE\"> [?? x 8]\u001b[39m\n",
       "\u001b[90m# Database: Oracle 19.00.0000[READ_BGLASS@SCIPRO/]\u001b[39m\n",
       "   SKILL                           IS_BASELINE IS_LANGUAGE IS_SPECIALIZED IS_SOFTWARE SKILL_CLUSTER              SKILL_CLUSTER_FAMILY          NUM\n",
       "   \u001b[3m\u001b[90m<chr>\u001b[39m\u001b[23m                                 \u001b[3m\u001b[90m<dbl>\u001b[39m\u001b[23m       \u001b[3m\u001b[90m<dbl>\u001b[39m\u001b[23m          \u001b[3m\u001b[90m<dbl>\u001b[39m\u001b[23m       \u001b[3m\u001b[90m<dbl>\u001b[39m\u001b[23m \u001b[3m\u001b[90m<chr>\u001b[39m\u001b[23m                      \u001b[3m\u001b[90m<chr>\u001b[39m\u001b[23m                       \u001b[3m\u001b[90m<dbl>\u001b[39m\u001b[23m\n",
       "\u001b[90m 1\u001b[39m VISI                                      0           0              1           0 na                         na                           \u001b[4m1\u001b[24m307\n",
       "\u001b[90m 2\u001b[39m Contrast Media Injection                  0           0              1           0 na                         na                             36\n",
       "\u001b[90m 3\u001b[39m Coding Quality                            0           0              1           0 Medical Billing and Coding Health Care                   416\n",
       "\u001b[90m 4\u001b[39m Quarrying Methods                         0           0              1           0 na                         na                             14\n",
       "\u001b[90m 5\u001b[39m Three Phase Electrical Systems            0           0              1           0 na                         na                            373\n",
       "\u001b[90m 6\u001b[39m Crop Sales                                0           0              1           0 na                         na                             45\n",
       "\u001b[90m 7\u001b[39m Cartooning                                0           0              1           0 na                         na                            183\n",
       "\u001b[90m 8\u001b[39m Renewable Heating Fuel                    0           0              1           0 na                         na                              1\n",
       "\u001b[90m 9\u001b[39m Customer Experience Improvement           0           0              1           0 Advanced Customer Service  Customer and Client Support \u001b[4m8\u001b[24m\u001b[4m6\u001b[24m485\n",
       "\u001b[90m10\u001b[39m Design Refinement                         0           0              1           0 na                         na                            160\n",
       "\u001b[90m# … with more rows\u001b[39m"
      ]
     },
     "metadata": {},
     "output_type": "display_data"
    }
   ],
   "source": [
    "bgt_skills_unique"
   ]
  },
  {
   "cell_type": "code",
   "execution_count": 3,
   "metadata": {},
   "outputs": [
    {
     "data": {
      "text/plain": [
       "R packages available\n",
       "\n",
       "Packages in library ‘/home/sostema/R/x86_64-pc-linux-gnu-library/4.0’:\n",
       "\n",
       "askpass                                               Safe Password Entry for R, Git, and SSH\n",
       "assertthat                                            Easy Pre and Post Assertions\n",
       "backports                                             Reimplementations of Functions Introduced Since R-3.0.0\n",
       "base64enc                                             Tools for base64 encoding\n",
       "BH                                                    Boost C++ Header Files\n",
       "bit                                                   Classes and Methods for Fast Memory-Efficient Boolean Selections\n",
       "bit64                                                 A S3 Class for Vectors of 64bit Integers\n",
       "blob                                                  A Simple S3 Class for Representing Vectors of Binary Data ('BLOBS')\n",
       "brew                                                  Templating Framework for Report Generation\n",
       "brio                                                  Basic R Input Output\n",
       "broom                                                 Convert Statistical Objects into Tidy Tibbles\n",
       "cachem                                                Cache R Objects with Automatic Pruning\n",
       "callr                                                 Call R from R\n",
       "cellranger                                            Translate Spreadsheet Cell Ranges to Rows and Columns\n",
       "cli                                                   Helpers for Developing Command Line Interfaces\n",
       "clipr                                                 Read and Write from the System Clipboard\n",
       "colorspace                                            A Toolbox for Manipulating and Assessing Colors and Palettes\n",
       "commonmark                                            High Performance CommonMark and Github Markdown Rendering in R\n",
       "covr                                                  Test Coverage for Packages\n",
       "cpp11                                                 A C++11 Interface for R's C Interface\n",
       "crayon                                                Colored Terminal Output\n",
       "credentials                                           Tools for Managing SSH and Git Credentials\n",
       "crosstalk                                             Inter-Widget Interactivity for HTML Widgets\n",
       "curl                                                  A Modern and Flexible Web Client for R\n",
       "DBI                                                   R Database Interface\n",
       "dbplyr                                                A 'dplyr' Back End for Databases\n",
       "desc                                                  Manipulate DESCRIPTION Files\n",
       "devtools                                              Tools to Make Developing R Packages Easier\n",
       "diffobj                                               Diffs for R Objects\n",
       "digest                                                Create Compact Hash Digests of R Objects\n",
       "dplyr                                                 A Grammar of Data Manipulation\n",
       "DT                                                    A Wrapper of the JavaScript Library 'DataTables'\n",
       "ellipsis                                              Tools for Working with ...\n",
       "evaluate                                              Parsing and Evaluation Tools that Provide More Details than the Default\n",
       "fansi                                                 ANSI Control Sequence Aware String Functions\n",
       "farver                                                High Performance Colour Space Manipulation\n",
       "fastmap                                               Fast Data Structures\n",
       "forcats                                               Tools for Working with Categorical Variables (Factors)\n",
       "fs                                                    Cross-Platform File System Operations Based on 'libuv'\n",
       "generics                                              Common S3 Generics not Provided by Base R Methods Related to Model Fitting\n",
       "gert                                                  Simple Git Client for R\n",
       "ggplot2                                               Create Elegant Data Visualisations Using the Grammar of Graphics\n",
       "gh                                                    'GitHub' 'API'\n",
       "gitcreds                                              Query 'git' Credentials from 'R'\n",
       "glue                                                  Interpreted String Literals\n",
       "gtable                                                Arrange 'Grobs' in Tables\n",
       "haven                                                 Import and Export 'SPSS', 'Stata' and 'SAS' Files\n",
       "highr                                                 Syntax Highlighting for R Source Code\n",
       "hms                                                   Pretty Time of Day\n",
       "htmltools                                             Tools for HTML\n",
       "htmlwidgets                                           HTML Widgets for R\n",
       "httr                                                  Tools for Working with URLs and HTTP\n",
       "ini                                                   Read and Write '.ini' Files\n",
       "IRdisplay                                             'Jupyter' Display Machinery\n",
       "IRkernel                                              Native R Kernel for the 'Jupyter Notebook'\n",
       "isoband                                               Generate Isolines and Isobands from Regularly Spaced Elevation Grids\n",
       "jsonlite                                              A Simple and Robust JSON Parser and Generator for R\n",
       "knitr                                                 A General-Purpose Package for Dynamic Report Generation in R\n",
       "labeling                                              Axis Labeling\n",
       "later                                                 Utilities for Scheduling Functions to Execute Later with Event Loops\n",
       "lazyeval                                              Lazy (Non-Standard) Evaluation\n",
       "lifecycle                                             Manage the Life Cycle of your Package Functions\n",
       "lubridate                                             Make Dealing with Dates a Little Easier\n",
       "magrittr                                              A Forward-Pipe Operator for R\n",
       "markdown                                              Render Markdown with the C Library 'Sundown'\n",
       "memoise                                               Memoisation of Functions\n",
       "mime                                                  Map Filenames to MIME Types\n",
       "modelr                                                Modelling Functions that Work with the Pipe\n",
       "munsell                                               Utilities for Using Munsell Colours\n",
       "odbc                                                  Connect to ODBC Compatible Databases (using the DBI Interface)\n",
       "openssl                                               Toolkit for Encryption, Signatures and Certificates Based on OpenSSL\n",
       "pbdZMQ                                                Programming with Big Data -- Interface to 'ZeroMQ'\n",
       "pillar                                                Coloured Formatting for Columns\n",
       "pkgbuild                                              Find Tools Needed to Build R Packages\n",
       "pkgconfig                                             Private Configuration for 'R' Packages\n",
       "pkgload                                               Simulate Package Installation and Attach\n",
       "praise                                                Praise Users\n",
       "prettyunits                                           Pretty, Human Readable Formatting of Quantities\n",
       "processx                                              Execute and Control System Processes\n",
       "progress                                              Terminal Progress Bars\n",
       "promises                                              Abstractions for Promise-Based Asynchronous Programming\n",
       "ps                                                    List, Query, Manipulate System Processes\n",
       "purrr                                                 Functional Programming Tools\n",
       "R6                                                    Encapsulated Classes with Reference Semantics\n",
       "rappdirs                                              Application Directories: Determine Where to Save Data, Caches, and Logs\n",
       "rcmdcheck                                             Run 'R CMD check' from 'R' and Capture Results\n",
       "RColorBrewer                                          ColorBrewer Palettes\n",
       "Rcpp                                                  Seamless R and C++ Integration\n",
       "readr                                                 Read Rectangular Text Data\n",
       "readxl                                                Read Excel Files\n",
       "rematch                                               Match Regular Expressions with a Nicer 'API'\n",
       "rematch2                                              Tidy Output from Regular Expression Matching\n",
       "remotes                                               R Package Installation from Remote Repositories, Including 'GitHub'\n",
       "repr                                                  Serializable Representations\n",
       "reprex                                                Prepare Reproducible Example Code via the Clipboard\n",
       "rex                                                   Friendly Regular Expressions\n",
       "rlang                                                 Functions for Base Types and Core R and 'Tidyverse' Features\n",
       "rmarkdown                                             Dynamic Documents for R\n",
       "roxygen2                                              In-Line Documentation for R\n",
       "rprojroot                                             Finding Files in Project Subdirectories\n",
       "rstudioapi                                            Safely Access the RStudio API\n",
       "rversions                                             Query 'R' Versions, Including 'r-release' and 'r-oldrel'\n",
       "rvest                                                 Easily Harvest (Scrape) Web Pages\n",
       "scales                                                Scale Functions for Visualization\n",
       "selectr                                               Translate CSS Selectors to XPath Expressions\n",
       "sessioninfo                                           R Session Information\n",
       "stringi                                               Character String Processing Facilities\n",
       "stringr                                               Simple, Consistent Wrappers for Common String Operations\n",
       "sys                                                   Powerful and Reliable Tools for Running System Commands in R\n",
       "testthat                                              Unit Testing for R\n",
       "tibble                                                Simple Data Frames\n",
       "tidyr                                                 Tidy Messy Data\n",
       "tidyselect                                            Select from a Set of Strings\n",
       "tidyverse                                             Easily Install and Load the 'Tidyverse'\n",
       "tinytex                                               Helper Functions to Install and Maintain TeX Live, and Compile LaTeX Documents\n",
       "usethis                                               Automate Package and Project Setup\n",
       "utf8                                                  Unicode Text Processing\n",
       "uuid                                                  Tools for Generating and Handling of UUIDs\n",
       "vctrs                                                 Vector Helpers\n",
       "viridisLite                                           Default Color Maps from 'matplotlib' (Lite Version)\n",
       "waldo                                                 Find Differences Between R Objects\n",
       "whisker                                               {{mustache}} for R, Logicless Templating\n",
       "withr                                                 Run Code 'With' Temporarily Modified Global State\n",
       "xfun                                                  Miscellaneous Functions to Support Packages Maintained by 'Yihui Xie'\n",
       "xml2                                                  Parse XML\n",
       "xopen                                                 Open System Files, 'URLs', Anything\n",
       "yaml                                                  Methods to Convert R Data to YAML and Back\n",
       "zip                                                   Cross-Platform 'zip' Compression\n",
       "\n",
       "Packages in library ‘/opt/R/4.0.4/lib/R/library’:\n",
       "\n",
       "base                                                  The R Base Package\n",
       "boot                                                  Bootstrap Functions (Originally by Angelo Canty for S)\n",
       "class                                                 Functions for Classification\n",
       "cluster                                               \"Finding Groups in Data\": Cluster Analysis Extended Rousseeuw et al.\n",
       "codetools                                             Code Analysis Tools for R\n",
       "compiler                                              The R Compiler Package\n",
       "datasets                                              The R Datasets Package\n",
       "foreign                                               Read Data Stored by 'Minitab', 'S', 'SAS', 'SPSS', 'Stata', 'Systat', 'Weka', 'dBase', ...\n",
       "graphics                                              The R Graphics Package\n",
       "grDevices                                             The R Graphics Devices and Support for Colours and Fonts\n",
       "grid                                                  The Grid Graphics Package\n",
       "KernSmooth                                            Functions for Kernel Smoothing Supporting Wand & Jones (1995)\n",
       "lattice                                               Trellis Graphics for R\n",
       "MASS                                                  Support Functions and Datasets for Venables and Ripley's MASS\n",
       "Matrix                                                Sparse and Dense Matrix Classes and Methods\n",
       "methods                                               Formal Methods and Classes\n",
       "mgcv                                                  Mixed GAM Computation Vehicle with Automatic Smoothness Estimation\n",
       "nlme                                                  Linear and Nonlinear Mixed Effects Models\n",
       "nnet                                                  Feed-Forward Neural Networks and Multinomial Log-Linear Models\n",
       "parallel                                              Support for Parallel computation in R\n",
       "rpart                                                 Recursive Partitioning and Regression Trees\n",
       "spatial                                               Functions for Kriging and Point Pattern Analysis\n",
       "splines                                               Regression Spline Functions and Classes\n",
       "stats                                                 The R Stats Package\n",
       "stats4                                                Statistical Functions using S4 Classes\n",
       "survival                                              Survival Analysis\n",
       "tcltk                                                 Tcl/Tk Interface\n",
       "tools                                                 Tools for Package Development\n",
       "utils                                                 The R Utils Package"
      ]
     },
     "metadata": {},
     "output_type": "display_data"
    }
   ],
   "source": [
    "library()"
   ]
  },
  {
   "cell_type": "code",
   "execution_count": null,
   "metadata": {},
   "outputs": [],
   "source": []
  }
 ],
 "metadata": {
  "kernelspec": {
   "display_name": "R",
   "language": "R",
   "name": "ir"
  },
  "language_info": {
   "codemirror_mode": "r",
   "file_extension": ".r",
   "mimetype": "text/x-r-source",
   "name": "R",
   "pygments_lexer": "r",
   "version": "4.0.4"
  }
 },
 "nbformat": 4,
 "nbformat_minor": 4
}
